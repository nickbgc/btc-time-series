{
 "cells": [
  {
   "cell_type": "markdown",
   "id": "1c91f730",
   "metadata": {},
   "source": [
    "#Bitcoin Time Series Forecasting\n",
    "\n",
    "Bitcoin is the longest running and most well known cryptocurrency, first released as open source in 2009 by the anonymous Satoshi Nakamoto. Bitcoin serves as a decentralized medium of digital exchange, with transactions verified and recorded in a public distributed ledger (the blockchain) without the need for a trusted record keeping authority or central intermediary. Transaction blocks contain a SHA-256 cryptographic hash of previous transaction blocks, and are thus \"chained\" together, serving as an immutable record of all transactions that have ever occurred. As with any currency/commodity on the market, bitcoin trading and financial instruments soon followed public adoption of bitcoin and continue to grow. If you don't know what Bitcoin is , then get some knowledge about Bitcoin here .\n",
    "\n",
    "This Kernel is divided into two parts:-\n",
    "\n",
    "Data Exploration\n",
    "Time Series Analysis\n",
    "And further for the Time Series Forecasting:-\n",
    "\n",
    "Time Series forecasting with LSTM\n",
    "Time Series forecasting with XGBoost\n",
    "Time Series forecasting with Facebook Prophet\n",
    "Time Series forecasting with ARIMA"
   ]
  },
  {
   "cell_type": "code",
   "execution_count": null,
   "id": "82db0510",
   "metadata": {},
   "outputs": [],
   "source": [
    "import numpy as np # linear algebra\n",
    "import pandas as pd # data processing, CSV file I/O (e.g. pd.read_csv)\n",
    "import matplotlib.pyplot as plt \n",
    "\n",
    "# Input data files are available in the \"../input/\" directory.\n",
    "# For example, running this (by clicking run or pressing Shift+Enter) will list the files in the input directory\n",
    "\n",
    "from plotly import tools\n",
    "import plotly.plotly as py\n",
    "from plotly.offline import init_notebook_mode, iplot\n",
    "init_notebook_mode(connected=True)\n",
    "import plotly.graph_objs as go\n",
    "import gc\n",
    "\n",
    "import matplotlib.pyplot as plt\n",
    "import seaborn as sns\n",
    "\n",
    "#import os\n",
    "#print(os.listdir(\"../input\"))\n",
    "\n",
    "from subprocess import check_output\n",
    "print(check_output([\"ls\", \"../input\"]).decode(\"utf8\"))"
   ]
  },
  {
   "cell_type": "markdown",
   "id": "4c1fbc75",
   "metadata": {},
   "source": [
    "#Data Exploration\n",
    "\n",
    "In this section we just explore the Data i.e the Historic Bitcoin Prices and try to find some insights. \n",
    "We will be using the Coinbase dataset as it is one of the mostly used Bitcoin Exchange/Wallet in the world."
   ]
  },
  {
   "cell_type": "code",
   "execution_count": null,
   "id": "fd2d0895",
   "metadata": {},
   "outputs": [],
   "source": [
    "import datetime, pytz\n",
    "#define a conversion function for the native timestamps in the csv file\n",
    "def dateparse (time_in_secs):    \n",
    "    return pytz.utc.localize(datetime.datetime.fromtimestamp(float(time_in_secs)))\n",
    "\n",
    "\n",
    "data = pd.read_csv('../input/coinbaseUSD_1-min_data_2014-12-01_to_2018-11-11.csv', parse_dates=[0], date_parser=dateparse)"
   ]
  },
  {
   "cell_type": "code",
   "execution_count": null,
   "id": "0545d746",
   "metadata": {},
   "outputs": [],
   "source": [
    "data.info()"
   ]
  },
  {
   "cell_type": "code",
   "execution_count": null,
   "id": "df92a6ac",
   "metadata": {},
   "outputs": [],
   "source": [
    "data.head()"
   ]
  },
  {
   "cell_type": "markdown",
   "id": "060e47fe",
   "metadata": {},
   "source": [
    "#Little preprocessing required, replacing the NaN values with zeroes and previous data."
   ]
  },
  {
   "cell_type": "code",
   "execution_count": null,
   "id": "9bb3e0b0",
   "metadata": {},
   "outputs": [],
   "source": [
    "# First thing is to fix the data for bars/candles where there are no trades. \n",
    "# Volume/trades are a single event so fill na's with zeroes for relevant fields...\n",
    "data['Volume_(BTC)'].fillna(value=0, inplace=True)\n",
    "data['Volume_(Currency)'].fillna(value=0, inplace=True)\n",
    "data['Weighted_Price'].fillna(value=0, inplace=True)\n",
    "\n",
    "# next we need to fix the OHLC (open high low close) data which is a continuous timeseries so\n",
    "# lets fill forwards those values...\n",
    "data['Open'].fillna(method='ffill', inplace=True)\n",
    "data['High'].fillna(method='ffill', inplace=True)\n",
    "data['Low'].fillna(method='ffill', inplace=True)\n",
    "data['Close'].fillna(method='ffill', inplace=True)\n",
    "\n",
    "data.head()"
   ]
  },
  {
   "cell_type": "markdown",
   "id": "f35d40cf",
   "metadata": {},
   "source": [
    "#Creating Weekly Rows for the Data Visualization"
   ]
  },
  {
   "cell_type": "code",
   "execution_count": null,
   "id": "04291b5d",
   "metadata": {},
   "outputs": [],
   "source": [
    "# create valid date range\n",
    "start = datetime.datetime(2015, 1, 1, 0, 0, 0, 0, pytz.UTC)\n",
    "end = datetime.datetime(2018, 11, 11, 0, 0, 0, 0, pytz.UTC)\n",
    "\n",
    "# find rows between start and end time and find the first row (00:00 monday morning)\n",
    "weekly_rows = data[(data['Timestamp'] >= start) & (data['Timestamp'] <= end)].groupby([pd.Grouper(key='Timestamp', freq='W-MON')]).first().reset_index()\n",
    "weekly_rows.head()"
   ]
  },
  {
   "cell_type": "code",
   "execution_count": null,
   "id": "640d1a6f",
   "metadata": {},
   "outputs": [],
   "source": [
    "# We use Plotly to create the plots https://plot.ly/python/\n",
    "trace1 = go.Scatter(\n",
    "    x = weekly_rows['Timestamp'],\n",
    "    y = weekly_rows['Open'].astype(float),\n",
    "    mode = 'lines',\n",
    "    name = 'Open'\n",
    ")\n",
    "\n",
    "trace2 = go.Scatter(\n",
    "    x = weekly_rows['Timestamp'],\n",
    "    y = weekly_rows['Close'].astype(float),\n",
    "    mode = 'lines',\n",
    "    name = 'Close'\n",
    ")\n",
    "trace3 = go.Scatter(\n",
    "    x = weekly_rows['Timestamp'],\n",
    "    y = weekly_rows['Weighted_Price'].astype(float),\n",
    "    mode = 'lines',\n",
    "    name = 'Weighted Avg'\n",
    ")\n",
    "\n",
    "layout = dict(\n",
    "    title='Historical Bitcoin Prices (2015-2018) with the Slider ',\n",
    "    xaxis=dict(\n",
    "        rangeselector=dict(\n",
    "            buttons=list([\n",
    "                #change the count to desired amount of months.\n",
    "                dict(count=1,\n",
    "                     label='1m',\n",
    "                     step='month',\n",
    "                     stepmode='backward'),\n",
    "                dict(count=6,\n",
    "                     label='6m',\n",
    "                     step='month',\n",
    "                     stepmode='backward'),\n",
    "                dict(count=12,\n",
    "                     label='1y',\n",
    "                     step='month',\n",
    "                     stepmode='backward'),\n",
    "                dict(count=36,\n",
    "                     label='3y',\n",
    "                     step='month',\n",
    "                     stepmode='backward'),\n",
    "                dict(step='all')\n",
    "            ])\n",
    "        ),\n",
    "        rangeslider=dict(\n",
    "            visible = True\n",
    "        ),\n",
    "        type='date'\n",
    "    )\n",
    ")\n",
    "\n",
    "data = [trace1,trace2, trace3]\n",
    "fig = dict(data=data, layout=layout)\n",
    "iplot(fig, filename = \"Time Series with Rangeslider\")"
   ]
  },
  {
   "cell_type": "markdown",
   "id": "2d407aca",
   "metadata": {},
   "source": [
    "#Lets visualize Historical Bitcoin Market Volume "
   ]
  },
  {
   "cell_type": "code",
   "execution_count": null,
   "id": "fb452723",
   "metadata": {},
   "outputs": [],
   "source": [
    "trace1 = go.Scatter(\n",
    "    x = weekly_rows['Timestamp'],\n",
    "    y = weekly_rows['Volume_(Currency)'].astype(float),\n",
    "    mode = 'lines',\n",
    "    name = 'Bitcoin Price (Open)'\n",
    ")\n",
    "\n",
    "layout = dict(\n",
    "    title='Historical Bitcoin Volume (USD) (2015-2018) with the slider',\n",
    "    xaxis=dict(\n",
    "        rangeselector=dict(\n",
    "            buttons=list([\n",
    "                dict(count=1,\n",
    "                     label='1m',\n",
    "                     step='month',\n",
    "                     stepmode='backward'),\n",
    "                dict(count=6,\n",
    "                     label='6m',\n",
    "                     step='month',\n",
    "                     stepmode='backward'),\n",
    "                dict(count=12,\n",
    "                     label='1y',\n",
    "                     step='month',\n",
    "                     stepmode='backward'),\n",
    "                dict(count=36,\n",
    "                     label='3y',\n",
    "                     step='month',\n",
    "                     stepmode='backward'),\n",
    "                dict(step='all')\n",
    "            ])\n",
    "        ),\n",
    "        rangeslider=dict(\n",
    "            visible = True\n",
    "        ),\n",
    "        type='date'\n",
    "    )\n",
    ")\n",
    "\n",
    "data = [trace1]\n",
    "fig = dict(data=data, layout=layout)\n",
    "iplot(fig, filename = \"Time Series with Rangeslider\")"
   ]
  },
  {
   "cell_type": "code",
   "execution_count": null,
   "id": "0b440a63",
   "metadata": {},
   "outputs": [],
   "source": [
    "#BTC Volume vs USD visualization\n",
    "trace = go.Scattergl(\n",
    "    y = weekly_rows['Volume_(BTC)'].astype(float),\n",
    "    x = weekly_rows['Weighted_Price'].astype(float),\n",
    "    mode = 'markers',\n",
    "    marker = dict(\n",
    "        color = '#FFBAD2',\n",
    "        line = dict(width = 1)\n",
    "    )\n",
    ")\n",
    "layout = go.Layout(\n",
    "    title='BTC Volume v/s USD',\n",
    "    xaxis=dict(\n",
    "        title='Weighted Price',\n",
    "        titlefont=dict(\n",
    "            family='Courier New, monospace',\n",
    "            size=18,\n",
    "            color='#7f7f7f'\n",
    "        )\n",
    "    ),\n",
    "    yaxis=dict(\n",
    "        title='Volume BTC',\n",
    "        titlefont=dict(\n",
    "            family='Courier New, monospace',\n",
    "            size=18,\n",
    "            color='#7f7f7f'\n",
    "        )))\n",
    "data = [trace]\n",
    "fig = go.Figure(data=data, layout=layout)\n",
    "iplot(fig, filename='compare_webgl')"
   ]
  },
  {
   "cell_type": "markdown",
   "id": "d51aca6b",
   "metadata": {},
   "source": [
    "#History of Bitcoin Prices\n",
    "\n",
    "18 August 2008, the domain name bitcoin.org was registered.\n",
    "November 6th 2010, Bitcoin share capital reaches 1 million USD. Its exchange rate on MtGox reaches USD 0.50 per BTC.\n",
    "June 2nd 2011, USD to BTC rate is 10 USD to the coin. For 6 days, the Bitcoin value is fixed at 31.91 USD on MtGox.\n",
    "February 28th 2013, Bitcoin exchange rate surpasses 31.91 USD for the first time for the last 601 days.\n",
    "April 1st,2013 Exchange rate of Bitcoin reaches 100 USD to 1 BTC.\n",
    "January,2015 Coinbase raised 75 million USD as part of a Series C funding round, smashing the previous record for a bitcoin company.\n",
    "February ,2015 Bitcoin price reached USD 262.\n",
    "January 2017,After the rally for most of the second half of 2016, bitcoin broke the USD 1,000 mark for the first time in 3 years.\n",
    "June 12th 2017, Bitcoin exchange rate exceeds USD 3000 to the BTC.\n",
    "November 29th 2017, Bitcoin price exceeds USD 10,000.\n",
    "December 18th 2017, Bitcoin reaches a record high, but does not reach USD 20,000.\n",
    "December 28th 2017, The price of bitcoins fell after South Korea announced additional measures to regulate bitcoin trading, including the potential closure of exchanges, among the volatile movements in the world's third largest cryptocurrency market.\n",
    "October 31st 2018, USD 6,300, on the 10 year anniversary of Bitcoin, price holds steady above USD 6,000 during a period of historically low volatility."
   ]
  },
  {
   "cell_type": "code",
   "execution_count": null,
   "id": "bc612063",
   "metadata": {},
   "outputs": [],
   "source": []
  },
  {
   "cell_type": "code",
   "execution_count": null,
   "id": "4e755bfa",
   "metadata": {},
   "outputs": [],
   "source": []
  },
  {
   "cell_type": "markdown",
   "id": "d9d75816",
   "metadata": {},
   "source": [
    "#Time Series Forecasting\n",
    "\n",
    "Time Series data is an experimental data which has been observed at different points in time (usually evenly spaced, like once a day or once an hour or once a minute). For example, the data of airline ticket sales per day is a time series. However, just because a series of events has a time element does not automatically make it a time series, such as the dates of major airline disasters, which are randomly spaced and are not time series. These types of random processes are known as point process.\n",
    "\n",
    "Time Series have several key features such as trend, seasonality, and noise.Forecasting is the process of making predictions of the future, based on past and present data.\n",
    "\n",
    "Here in this kernel, we attempt to perform Time Series Analysis on the Historic Bitcoin Price data. We can easily see from the Data Exploration section, that the Bitcoin prices were quite volatile and inconsistent over the years. Its very hard to perform Time series analysis on such volatile data. But here we try to explore the different Time series forecasting models. All the models used in this Kernel are very basic, there is scope of more complex and better performing models.\n",
    "\n",
    "Time Series forecasting with LSTM\n",
    "Time Series forecasting with XGBoost\n",
    "Time Series forecasting with Facebook Prophet\n",
    "Time Series forecasting with ARIMA\n",
    "Predicting using LSTM\n",
    "\n",
    "In the first section, we use LSTM (Long short-term memory ). LSTM units are units of a recurrent neural network (RNN). An RNN composed of LSTM units is often called an LSTM network (or just LSTM). A common LSTM unit is composed of a cell, an input gate, an output gate and a forget gate. The cell remembers values over arbitrary time intervals and the three gates regulate the flow of information into and out of the cell. Read more about LSTMs here.\n",
    "\n",
    "Though LSTM is not ideal for forecasting turbulent market like Bitcoin but we still take a chance here."
   ]
  },
  {
   "cell_type": "code",
   "execution_count": null,
   "id": "03b2703c",
   "metadata": {},
   "outputs": [],
   "source": [
    "#load the dataset \n",
    "data = pd.read_csv('../input/coinbaseUSD_1-min_data_2014-12-01_to_2018-11-11.csv',parse_dates=[0], date_parser=dateparse) \n",
    "data['Timestamp'] = data['Timestamp'].dt.tz_localize(None)\n",
    "data = data.groupby([pd.Grouper(key='Timestamp', freq='H')]).first().reset_index()\n",
    "data = data.set_index('Timestamp')\n",
    "data = data[['Weighted_Price']]\n",
    "data['Weighted_Price'].fillna(method='ffill', inplace=True)"
   ]
  },
  {
   "cell_type": "markdown",
   "id": "5f4805bb",
   "metadata": {},
   "source": [
    "#For the train and test, we take '25-Jun-2018' as the split date. There was a considerable dip in Bitcoin prices between the June-July period 2018. If we check the historical prices the seasonal market started going up from this date after reaching the lowest, though the price reached much lower $5972 on June 29th 2018. After reaching the historic 20K mark on December 18th, there were several dips and market price was recorrected every time."
   ]
  },
  {
   "cell_type": "code",
   "execution_count": null,
   "id": "9f3aab37",
   "metadata": {},
   "outputs": [],
   "source": [
    "# split data\n",
    "split_date = '25-Jun-2018'\n",
    "data_train = data.loc[data.index <= split_date].copy()\n",
    "data_test = data.loc[data.index > split_date].copy()"
   ]
  },
  {
   "cell_type": "code",
   "execution_count": null,
   "id": "7be21f03",
   "metadata": {},
   "outputs": [],
   "source": [
    "# Data preprocess\n",
    "training_set = data_train.values\n",
    "training_set = np.reshape(training_set, (len(training_set), 1))\n",
    "from sklearn.preprocessing import MinMaxScaler\n",
    "sc = MinMaxScaler()\n",
    "training_set = sc.fit_transform(training_set)\n",
    "X_train = training_set[0:len(training_set)-1]\n",
    "y_train = training_set[1:len(training_set)]\n",
    "X_train = np.reshape(X_train, (len(X_train), 1, 1))"
   ]
  },
  {
   "cell_type": "code",
   "execution_count": null,
   "id": "61d013d2",
   "metadata": {},
   "outputs": [],
   "source": [
    "color_pal = [\"#F8766D\", \"#D39200\", \"#93AA00\", \"#00BA38\", \"#00C19F\", \"#00B9E3\", \"#619CFF\", \"#DB72FB\"]\n",
    "_ = data.plot(style='', figsize=(15,5), color=color_pal[0], title='BTC Weighted_Price Price (USD) by Hours')"
   ]
  },
  {
   "cell_type": "code",
   "execution_count": null,
   "id": "db91d1dc",
   "metadata": {},
   "outputs": [],
   "source": [
    "_ = data_test \\\n",
    "    .rename(columns={'Weighted_Price': 'Test Set'}) \\\n",
    "    .join(data_train.rename(columns={'Weighted_Price': 'Training Set'}), how='outer') \\\n",
    "    .plot(figsize=(15,5), title='BTC Weighted_Price Price (USD) by Hours', style='')"
   ]
  },
  {
   "cell_type": "code",
   "execution_count": null,
   "id": "526b13de",
   "metadata": {},
   "outputs": [],
   "source": []
  },
  {
   "cell_type": "code",
   "execution_count": null,
   "id": "ca4112c7",
   "metadata": {},
   "outputs": [],
   "source": []
  },
  {
   "cell_type": "markdown",
   "id": "6cdb8c40",
   "metadata": {},
   "source": [
    "#We will use a Vanilla LSTM here for forecasting. The model is trained on pre 25-Jun-2018 data."
   ]
  },
  {
   "cell_type": "code",
   "execution_count": null,
   "id": "039c0aaa",
   "metadata": {},
   "outputs": [],
   "source": [
    "# Importing the Keras libraries and packages\n",
    "from keras.models import Sequential\n",
    "from keras.layers import Dense\n",
    "from keras.layers import LSTM\n",
    "from keras.layers import Dropout\n",
    "from keras.layers import Activation\n",
    "\n",
    "\n",
    "model = Sequential()\n",
    "model.add(LSTM(128,activation=\"sigmoid\",input_shape=(1,1)))\n",
    "model.add(Dropout(0.2))\n",
    "model.add(Dense(1))\n",
    "model.compile(loss='mean_squared_error', optimizer='adam')\n",
    "model.fit(X_train, y_train, epochs=100, batch_size=50, verbose=2)"
   ]
  },
  {
   "cell_type": "code",
   "execution_count": null,
   "id": "29531132",
   "metadata": {},
   "outputs": [],
   "source": [
    "model.summary()"
   ]
  },
  {
   "cell_type": "code",
   "execution_count": null,
   "id": "21a8d826",
   "metadata": {},
   "outputs": [],
   "source": [
    "# Making the predictions\n",
    "test_set = data_test.values\n",
    "inputs = np.reshape(test_set, (len(test_set), 1))\n",
    "inputs = sc.transform(inputs)\n",
    "inputs = np.reshape(inputs, (len(inputs), 1, 1))\n",
    "predicted_BTC_price = model.predict(inputs)\n",
    "predicted_BTC_price = sc.inverse_transform(predicted_BTC_price)"
   ]
  },
  {
   "cell_type": "code",
   "execution_count": null,
   "id": "72c49d05",
   "metadata": {},
   "outputs": [],
   "source": [
    "data_test['Weighted_Price_Prediction'] = predicted_BTC_price\n",
    "data_all = pd.concat([data_test, data_train], sort=False)"
   ]
  },
  {
   "cell_type": "code",
   "execution_count": null,
   "id": "65ceb6d7",
   "metadata": {},
   "outputs": [],
   "source": [
    "#saving the predicted values in a common data frame for future comparision\n",
    "final_data = data_all\n",
    "final_data = final_data.reset_index()\n",
    "final_data = final_data.rename(columns={'Weighted_Price_Prediction': 'lstm'})\n",
    "final_data = final_data[['Timestamp','Weighted_Price','lstm']]"
   ]
  },
  {
   "cell_type": "code",
   "execution_count": null,
   "id": "9dbae478",
   "metadata": {},
   "outputs": [],
   "source": [
    "_ = data_all[['Weighted_Price','Weighted_Price_Prediction']].plot(figsize=(15, 5))"
   ]
  },
  {
   "cell_type": "code",
   "execution_count": null,
   "id": "806b9f2a",
   "metadata": {},
   "outputs": [],
   "source": [
    "# Plot the forecast with the actuals\n",
    "f, ax = plt.subplots(1)\n",
    "f.set_figheight(5)\n",
    "f.set_figwidth(15)\n",
    "_ = data_all[['Weighted_Price_Prediction','Weighted_Price']].plot(ax=ax,\n",
    "                                              style=['-','.'])\n",
    "ax.set_xbound(lower='08-01-2018', upper='09-01-2018')\n",
    "ax.set_ylim(0, 10000)\n",
    "plot = plt.suptitle('August 2018 Forecast vs Actuals')"
   ]
  },
  {
   "cell_type": "code",
   "execution_count": null,
   "id": "9a8e875a",
   "metadata": {},
   "outputs": [],
   "source": [
    "# Plot the forecast with the actuals\n",
    "f, ax = plt.subplots(1)\n",
    "f.set_figheight(5)\n",
    "f.set_figwidth(15)\n",
    "_ = data_all[['Weighted_Price_Prediction','Weighted_Price']].plot(ax=ax,\n",
    "                                              style=['-','.'])\n",
    "ax.set_xbound(lower='08-01-2018', upper='08-08-2018')\n",
    "ax.set_ylim(0, 10000)\n",
    "plot = plt.suptitle('First Week of August 2018 Forecast vs Actuals')"
   ]
  },
  {
   "cell_type": "code",
   "execution_count": null,
   "id": "eac4588b",
   "metadata": {},
   "outputs": [],
   "source": [
    "#calculate MSE and MAE\n",
    "from sklearn.metrics import mean_squared_error, mean_absolute_error\n",
    "mean_squared_error(y_true=data_test['Weighted_Price'],\n",
    "                   y_pred=data_test['Weighted_Price_Prediction'])"
   ]
  },
  {
   "cell_type": "code",
   "execution_count": null,
   "id": "f953d503",
   "metadata": {},
   "outputs": [],
   "source": [
    "mean_absolute_error(y_true=data_test['Weighted_Price'],\n",
    "                   y_pred=data_test['Weighted_Price_Prediction'])"
   ]
  },
  {
   "cell_type": "markdown",
   "id": "66b6fa06",
   "metadata": {},
   "source": [
    "#We can clearly see the entire model is over-fitted."
   ]
  },
  {
   "cell_type": "code",
   "execution_count": null,
   "id": "22f0f0e3",
   "metadata": {},
   "outputs": [],
   "source": []
  },
  {
   "cell_type": "code",
   "execution_count": null,
   "id": "d4c5a601",
   "metadata": {},
   "outputs": [],
   "source": []
  },
  {
   "cell_type": "markdown",
   "id": "54027303",
   "metadata": {},
   "source": [
    "#Time Series forecasting with XGBoost\n",
    "\n",
    "XGBoost is an implementation of gradient boosted decision trees designed for speed and performance. \n",
    "XGBoost is a powerful and versatile tool. Lets see, How well does XGBoost perform when used to predict future values of a time-series like Bitcoin prices?"
   ]
  },
  {
   "cell_type": "code",
   "execution_count": null,
   "id": "48f5af53",
   "metadata": {},
   "outputs": [],
   "source": [
    "import seaborn as sns\n",
    "import matplotlib.pyplot as plt\n",
    "from fbprophet import Prophet\n",
    "from sklearn.metrics import mean_squared_error, mean_absolute_error\n",
    "plt.style.use('fivethirtyeight')"
   ]
  },
  {
   "cell_type": "code",
   "execution_count": null,
   "id": "6a2e1f82",
   "metadata": {},
   "outputs": [],
   "source": [
    "data = pd.read_csv('../input/coinbaseUSD_1-min_data_2014-12-01_to_2018-11-11.csv',parse_dates=[0], date_parser=dateparse) \n",
    "data['Timestamp'] = data['Timestamp'].dt.tz_localize(None)\n",
    "data = data.groupby([pd.Grouper(key='Timestamp', freq='H')]).first().reset_index()\n",
    "data = data.set_index('Timestamp')\n",
    "data = data[['Weighted_Price']]\n",
    "data['Weighted_Price'].fillna(method='ffill', inplace=True)"
   ]
  },
  {
   "cell_type": "code",
   "execution_count": null,
   "id": "f55e4939",
   "metadata": {},
   "outputs": [],
   "source": [
    "color_pal = [\"#F8766D\", \"#D39200\", \"#93AA00\", \"#00BA38\", \"#00C19F\", \"#00B9E3\", \"#619CFF\", \"#DB72FB\"]\n",
    "_ = data.plot(style='', figsize=(15,5), color=color_pal[0], title='BTC Weighted_Price Price (USD) by Hours')"
   ]
  },
  {
   "cell_type": "code",
   "execution_count": null,
   "id": "77f13b28",
   "metadata": {},
   "outputs": [],
   "source": [
    "split_date = '25-Jun-2018'\n",
    "data_train = data.loc[data.index <= split_date].copy()\n",
    "data_test = data.loc[data.index > split_date].copy()"
   ]
  },
  {
   "cell_type": "code",
   "execution_count": null,
   "id": "25aaab82",
   "metadata": {},
   "outputs": [],
   "source": [
    "_ = data_test \\\n",
    "    .rename(columns={'Weighted_Price': 'Test Set'}) \\\n",
    "    .join(data_train.rename(columns={'Weighted_Price': 'Training Set'}), how='outer') \\\n",
    "    .plot(figsize=(15,5), title='BTC Weighted_Price Price (USD) by Hours', style='')"
   ]
  },
  {
   "cell_type": "code",
   "execution_count": null,
   "id": "bff71a8f",
   "metadata": {},
   "outputs": [],
   "source": [
    "def create_features(df, label=None):\n",
    "    \"\"\"\n",
    "    Creates time series features from datetime index\n",
    "    \"\"\"\n",
    "    df['date'] = df.index\n",
    "    df['hour'] = df['date'].dt.hour\n",
    "    df['dayofweek'] = df['date'].dt.dayofweek\n",
    "    df['quarter'] = df['date'].dt.quarter\n",
    "    df['month'] = df['date'].dt.month\n",
    "    df['year'] = df['date'].dt.year\n",
    "    df['dayofyear'] = df['date'].dt.dayofyear\n",
    "    df['dayofmonth'] = df['date'].dt.day\n",
    "    df['weekofyear'] = df['date'].dt.weekofyear\n",
    "    \n",
    "    X = df[['hour','dayofweek','quarter','month','year',\n",
    "           'dayofyear','dayofmonth','weekofyear']]\n",
    "    if label:\n",
    "        y = df[label]\n",
    "        return X, y\n",
    "    return X"
   ]
  },
  {
   "cell_type": "code",
   "execution_count": null,
   "id": "5cbbf5a1",
   "metadata": {},
   "outputs": [],
   "source": [
    "X_train, y_train = create_features(data_train, label='Weighted_Price')\n",
    "X_test, y_test = create_features(data_test, label='Weighted_Price')"
   ]
  },
  {
   "cell_type": "code",
   "execution_count": null,
   "id": "d25bc0a8",
   "metadata": {},
   "outputs": [],
   "source": [
    "#Here we use a basic XGBRegressor model\n",
    "\n",
    "import xgboost as xgb\n",
    "from xgboost import plot_importance, plot_tree\n",
    "model =  xgb.XGBRegressor(objective ='reg:linear',min_child_weight=10, booster='gbtree', colsample_bytree = 0.3, learning_rate = 0.1,\n",
    "                max_depth = 5, alpha = 10, n_estimators = 100)\n",
    "model.fit(X_train, y_train,\n",
    "        eval_set=[(X_train, y_train), (X_test, y_test)],\n",
    "        early_stopping_rounds=50,\n",
    "       verbose=False) # Change verbose to True if you want to see it train"
   ]
  },
  {
   "cell_type": "code",
   "execution_count": null,
   "id": "bc8bfd62",
   "metadata": {},
   "outputs": [],
   "source": [
    "data_test['Weighted_Price_Prediction'] = model.predict(X_test)\n",
    "data_all = pd.concat([data_test, data_train], sort=False)"
   ]
  },
  {
   "cell_type": "code",
   "execution_count": null,
   "id": "0dd2159b",
   "metadata": {},
   "outputs": [],
   "source": [
    "#adding to final data for comparision\n",
    "final_data = pd.merge(final_data, data_all, sort=False)\n",
    "final_data = final_data.rename(columns={'Weighted_Price_Prediction': 'xgboost'})\n",
    "final_data = final_data[['Timestamp','Weighted_Price','lstm','xgboost']]"
   ]
  },
  {
   "cell_type": "code",
   "execution_count": null,
   "id": "67556201",
   "metadata": {},
   "outputs": [],
   "source": [
    "_ = data_all[['Weighted_Price','Weighted_Price_Prediction']].plot(figsize=(15, 5))"
   ]
  },
  {
   "cell_type": "code",
   "execution_count": null,
   "id": "eb852adf",
   "metadata": {},
   "outputs": [],
   "source": [
    "# Plot the forecast with the actuals\n",
    "f, ax = plt.subplots(1)\n",
    "f.set_figheight(5)\n",
    "f.set_figwidth(15)\n",
    "_ = data_all[['Weighted_Price_Prediction','Weighted_Price']].plot(ax=ax,\n",
    "                                              style=['-','.'])\n",
    "ax.set_xbound(lower='08-01-2018', upper='09-01-2018')\n",
    "ax.set_ylim(0, 10000)\n",
    "plot = plt.suptitle('August 2018 Forecast vs Actuals')"
   ]
  },
  {
   "cell_type": "code",
   "execution_count": null,
   "id": "cab53161",
   "metadata": {},
   "outputs": [],
   "source": [
    "# Plot the forecast with the actuals\n",
    "f, ax = plt.subplots(1)\n",
    "f.set_figheight(5)\n",
    "f.set_figwidth(15)\n",
    "_ = data_all[['Weighted_Price_Prediction','Weighted_Price']].plot(ax=ax,\n",
    "                                              style=['-','.'])\n",
    "ax.set_xbound(lower='08-01-2018', upper='08-08-2018')\n",
    "ax.set_ylim(0, 10000)\n",
    "plot = plt.suptitle('First Week of August 2018 Forecast vs Actuals')"
   ]
  },
  {
   "cell_type": "code",
   "execution_count": null,
   "id": "5421d9bc",
   "metadata": {},
   "outputs": [],
   "source": [
    "mean_squared_error(y_true=data_test['Weighted_Price'],\n",
    "                   y_pred=data_test['Weighted_Price_Prediction'])"
   ]
  },
  {
   "cell_type": "code",
   "execution_count": null,
   "id": "887a2dcf",
   "metadata": {},
   "outputs": [],
   "source": [
    "mean_absolute_error(y_true=data_test['Weighted_Price'],\n",
    "                   y_pred=data_test['Weighted_Price_Prediction'])"
   ]
  },
  {
   "cell_type": "code",
   "execution_count": null,
   "id": "ef1ab902",
   "metadata": {},
   "outputs": [],
   "source": []
  },
  {
   "cell_type": "code",
   "execution_count": null,
   "id": "9c938a7e",
   "metadata": {},
   "outputs": [],
   "source": []
  },
  {
   "cell_type": "markdown",
   "id": "291a5742",
   "metadata": {},
   "source": [
    "#Time Series forecasting with Prophet\n",
    "\n",
    "Prophet is a procedure for forecasting time series data based on an additive model where non-linear trends are fit with yearly, weekly, and daily seasonality, plus holiday effects. It works best with time series that have strong seasonal effects and several seasons of historical data. Prophet is robust to missing data and shifts in the trend, and typically handles outliers well. Refer Prophet here.\n",
    "\n",
    "The Prophet package provides intuitive parameters which are easy to tune. Even someone with minimum expertise in forecasting models can use this to make meaningful predictions for a variety of problems in a business scenario."
   ]
  },
  {
   "cell_type": "code",
   "execution_count": null,
   "id": "7a26d4d8",
   "metadata": {},
   "outputs": [],
   "source": [
    "data = pd.read_csv('../input/coinbaseUSD_1-min_data_2014-12-01_to_2018-11-11.csv',parse_dates=[0], date_parser=dateparse) \n",
    "data['Timestamp'] = data['Timestamp'].dt.tz_localize(None)\n",
    "data = data.groupby([pd.Grouper(key='Timestamp', freq='H')]).first().reset_index()\n",
    "data = data.set_index('Timestamp')\n",
    "data = data[['Weighted_Price']]\n",
    "data['Weighted_Price'].fillna(method='ffill', inplace=True)"
   ]
  },
  {
   "cell_type": "code",
   "execution_count": null,
   "id": "14f7bc57",
   "metadata": {},
   "outputs": [],
   "source": [
    "color_pal = [\"#F8766D\", \"#D39200\", \"#93AA00\", \"#00BA38\", \"#00C19F\", \"#00B9E3\", \"#619CFF\", \"#DB72FB\"]\n",
    "_ = data.plot(style='', figsize=(15,5), color=color_pal[0], title='BTC Weighted_Price Price (USD) by Hours')"
   ]
  },
  {
   "cell_type": "code",
   "execution_count": null,
   "id": "afc9b63c",
   "metadata": {},
   "outputs": [],
   "source": [
    "split_date = '25-Jun-2018'\n",
    "data_train = data.loc[data.index <= split_date].copy()\n",
    "data_test = data.loc[data.index > split_date].copy()"
   ]
  },
  {
   "cell_type": "code",
   "execution_count": null,
   "id": "62e41c2d",
   "metadata": {},
   "outputs": [],
   "source": [
    "_ = data_test \\\n",
    "    .rename(columns={'Weighted_Price': 'Test Set'}) \\\n",
    "    .join(data_train.rename(columns={'Weighted_Price': 'Training Set'}), how='outer') \\\n",
    "    .plot(figsize=(15,5), title='BTC Weighted_Price Price (USD) by Hours', style='')"
   ]
  },
  {
   "cell_type": "code",
   "execution_count": null,
   "id": "15c6e923",
   "metadata": {},
   "outputs": [],
   "source": [
    "data_train = data_train.reset_index().rename(columns={'Timestamp':'ds', 'Weighted_Price':'y'})"
   ]
  },
  {
   "cell_type": "code",
   "execution_count": null,
   "id": "6a3bc95e",
   "metadata": {},
   "outputs": [],
   "source": [
    "# Setup and train model\n",
    "model = Prophet()\n",
    "model.fit(data_train)"
   ]
  },
  {
   "cell_type": "code",
   "execution_count": null,
   "id": "be35717d",
   "metadata": {},
   "outputs": [],
   "source": [
    "# Predict on training set with model\n",
    "data_test_fcst = model.predict(df=data_test.reset_index().rename(columns={'Timestamp':'ds'}))"
   ]
  },
  {
   "cell_type": "code",
   "execution_count": null,
   "id": "c97cb9a9",
   "metadata": {},
   "outputs": [],
   "source": [
    "# Plot the forecast\n",
    "f, ax = plt.subplots(1)\n",
    "f.set_figheight(5)\n",
    "f.set_figwidth(15)\n",
    "fig = model.plot(data_test_fcst, ax=ax)"
   ]
  },
  {
   "cell_type": "code",
   "execution_count": null,
   "id": "ebb6934b",
   "metadata": {},
   "outputs": [],
   "source": [
    "# Plot the components\n",
    "fig = model.plot_components(data_test_fcst)"
   ]
  },
  {
   "cell_type": "code",
   "execution_count": null,
   "id": "d2ec2b03",
   "metadata": {},
   "outputs": [],
   "source": [
    "# Plot the forecast with the actuals\n",
    "f, ax = plt.subplots(1)\n",
    "f.set_figheight(5)\n",
    "f.set_figwidth(15)\n",
    "ax.scatter(data_test.index, data_test['Weighted_Price'], color='r')\n",
    "fig = model.plot(data_test_fcst, ax=ax)"
   ]
  },
  {
   "cell_type": "code",
   "execution_count": null,
   "id": "f863cd43",
   "metadata": {},
   "outputs": [],
   "source": [
    "#for comparision of predictions\n",
    "data_fcst = data_test_fcst\n",
    "data_fcst = data_fcst.rename(columns={'ds': 'Timestamp'})\n",
    "data_all = pd.concat([data_fcst, data_train], sort=False)\n",
    "final_data = pd.merge(final_data, data_all, sort=False)\n",
    "final_data = final_data.rename(columns={'yhat': 'prophet'})\n",
    "final_data = final_data[['Timestamp','Weighted_Price','lstm','xgboost','prophet']]"
   ]
  },
  {
   "cell_type": "code",
   "execution_count": null,
   "id": "6647ec29",
   "metadata": {},
   "outputs": [],
   "source": [
    "# Plot the forecast with the actuals\n",
    "f, ax = plt.subplots(1)\n",
    "f.set_figheight(5)\n",
    "f.set_figwidth(15)\n",
    "ax.scatter(data_test.index, data_test['Weighted_Price'], color='r')\n",
    "fig = model.plot(data_test_fcst, ax=ax)\n",
    "ax.set_xbound(lower='08-01-2018', upper='09-01-2018')\n",
    "ax.set_ylim(0, 10000)\n",
    "plot = plt.suptitle('August 2018 Forecast vs Actuals')"
   ]
  },
  {
   "cell_type": "code",
   "execution_count": null,
   "id": "aefd3dbe",
   "metadata": {},
   "outputs": [],
   "source": [
    "# Plot the forecast with the actuals\n",
    "f, ax = plt.subplots(1)\n",
    "f.set_figheight(5)\n",
    "f.set_figwidth(15)\n",
    "ax.scatter(data_test.index, data_test['Weighted_Price'], color='r')\n",
    "fig = model.plot(data_test_fcst, ax=ax)\n",
    "ax.set_xbound(lower='08-01-2018', upper='08-08-2018')\n",
    "ax.set_ylim(0, 10000)\n",
    "plot = plt.suptitle('First Week of August 2018 Forecast vs Actuals')"
   ]
  },
  {
   "cell_type": "code",
   "execution_count": null,
   "id": "2e8c7b0c",
   "metadata": {},
   "outputs": [],
   "source": [
    "mean_squared_error(y_true=data_test['Weighted_Price'],\n",
    "                   y_pred=data_test_fcst['yhat'])"
   ]
  },
  {
   "cell_type": "code",
   "execution_count": null,
   "id": "f175c2b7",
   "metadata": {},
   "outputs": [],
   "source": [
    "mean_absolute_error(y_true=data_test['Weighted_Price'],\n",
    "                   y_pred=data_test_fcst['yhat'])"
   ]
  },
  {
   "cell_type": "markdown",
   "id": "1df10028",
   "metadata": {},
   "source": [
    "LSTM , XGBoost and Prophet - How good are they ?\n",
    "\n",
    "Here lets visualize and compare the predictive results of LSTM, XGBoost and Prophet in a single plot,"
   ]
  },
  {
   "cell_type": "code",
   "execution_count": null,
   "id": "ba1c5d82",
   "metadata": {},
   "outputs": [],
   "source": [
    "# Create traces\n",
    "trace0 = go.Scatter(\n",
    "    x = final_data['Timestamp'],\n",
    "    y = final_data['Weighted_Price'],\n",
    "    mode = 'lines+markers',\n",
    "    name = 'Real Price'\n",
    ")\n",
    "trace1 = go.Scatter(\n",
    "    x = final_data['Timestamp'],\n",
    "    y = final_data['lstm'],\n",
    "    mode = 'lines+markers',\n",
    "    name = 'LSTM Prediction'\n",
    ")\n",
    "trace2 = go.Scatter(\n",
    "    x = final_data['Timestamp'],\n",
    "    y = final_data['xgboost'],\n",
    "    mode = 'lines+markers',\n",
    "    name = 'XGBoost Prediction'\n",
    ")\n",
    "trace3 = go.Scatter(\n",
    "    x = final_data['Timestamp'],\n",
    "    y = final_data['prophet'],\n",
    "    mode = 'lines+markers',\n",
    "    name = 'Prophet Prediction'\n",
    ")\n",
    "\n",
    "# Edit the layout\n",
    "layout = dict(title = 'Comparision of LSTM,XGBoost and Prophet',\n",
    "              xaxis = dict(title = 'Month'),\n",
    "              yaxis = dict(title = 'Prices (USD)'),\n",
    "              )\n",
    "\n",
    "data = [trace0, trace1, trace2, trace3]\n",
    "fig = dict(data=data, layout=layout)\n",
    "iplot(fig, filename='styled-line')"
   ]
  },
  {
   "cell_type": "code",
   "execution_count": null,
   "id": "da6a0bd0",
   "metadata": {},
   "outputs": [],
   "source": []
  },
  {
   "cell_type": "code",
   "execution_count": null,
   "id": "97e40b8d",
   "metadata": {},
   "outputs": [],
   "source": []
  },
  {
   "cell_type": "markdown",
   "id": "5a6c96c4",
   "metadata": {},
   "source": [
    "#Time Series forecasting using ARIMA\n",
    "\n",
    "ARIMA is an acronym that stands for AutoRegressive Integrated Moving Average. It is a class of model that captures a suite of different standard temporal structures in time series data. This acronym is descriptive, capturing the key aspects of the model itself. Briefly, they are:\n",
    "\n",
    "AR: Autoregression. A model that uses the dependent relationship between an observation and some number of lagged observations.\n",
    "\n",
    "I: Integrated. The use of differencing of raw observations (e.g. subtracting an observation from an observation at the previous time step) in order to make the time series stationary.\n",
    "\n",
    "MA: Moving Average. A model that uses the dependency between an observation and a residual error from a moving average model applied to lagged observations.\n",
    "\n",
    "ARIMA is one of the mostly used techniques for Time Series analysis. In Python, ARIMA based forecasting models can be created either using AutoARIMA(Pyramid ARIMA) or StatsModel .We will be using StatsModel in this notebook."
   ]
  },
  {
   "cell_type": "code",
   "execution_count": null,
   "id": "4e3c389b",
   "metadata": {},
   "outputs": [],
   "source": [
    "from scipy import stats\n",
    "import statsmodels.api as sm\n",
    "import warnings\n",
    "from itertools import product"
   ]
  },
  {
   "cell_type": "code",
   "execution_count": null,
   "id": "b9a7aec3",
   "metadata": {},
   "outputs": [],
   "source": [
    "data = pd.read_csv('../input/coinbaseUSD_1-min_data_2014-12-01_to_2018-11-11.csv',parse_dates=[0], date_parser=dateparse)"
   ]
  },
  {
   "cell_type": "code",
   "execution_count": null,
   "id": "02ca113b",
   "metadata": {},
   "outputs": [],
   "source": [
    "data['Open'].fillna(method='ffill', inplace=True)\n",
    "data['High'].fillna(method='ffill', inplace=True)\n",
    "data['Low'].fillna(method='ffill', inplace=True)\n",
    "data['Close'].fillna(method='ffill', inplace=True)\n",
    "data['Weighted_Price'].fillna(method='ffill', inplace=True)\n",
    "data['Volume_(BTC)'].fillna(method='ffill', inplace=True)\n",
    "data['Volume_(Currency)'].fillna(method='ffill', inplace=True)"
   ]
  },
  {
   "cell_type": "code",
   "execution_count": null,
   "id": "e53672cf",
   "metadata": {},
   "outputs": [],
   "source": [
    "plt.figure(figsize=[20,8])\n",
    "plt.title('BTC Weighted_Price Price (USD) by Hours')\n",
    "plt.plot(data.Weighted_Price, '-', label='By Hours')"
   ]
  },
  {
   "cell_type": "markdown",
   "id": "af473ad7",
   "metadata": {},
   "source": [
    "#In previous sections of LSTM,XGBoost and Prophet, we used hourly data to train the model. But here we will use the monthly data (for Seasonality)."
   ]
  },
  {
   "cell_type": "code",
   "execution_count": null,
   "id": "c572a43e",
   "metadata": {},
   "outputs": [],
   "source": [
    "data['Timestamp'] = data['Timestamp'].dt.tz_localize(None)\n",
    "data = data.groupby([pd.Grouper(key='Timestamp', freq='M')]).first().reset_index()\n",
    "data = data.set_index('Timestamp')\n",
    "data['Weighted_Price'].fillna(method='ffill', inplace=True)"
   ]
  },
  {
   "cell_type": "code",
   "execution_count": null,
   "id": "cf7ba8cc",
   "metadata": {},
   "outputs": [],
   "source": [
    "plt.figure(figsize=[20,8])\n",
    "plt.title('BTC Weighted_Price Price (USD) by Months')\n",
    "plt.plot(data.Weighted_Price, '-', label='By Months')"
   ]
  },
  {
   "cell_type": "code",
   "execution_count": null,
   "id": "fe94e9d1",
   "metadata": {},
   "outputs": [],
   "source": [
    "#Decomposition\n",
    "\n",
    "decomposition = sm.tsa.seasonal_decompose(data.Weighted_Price)\n",
    "\n",
    "trend = decomposition.trend\n",
    "seasonal = decomposition.seasonal\n",
    "residual = decomposition.resid\n",
    "\n",
    "fig = plt.figure(figsize=(20,8))\n",
    "\n",
    "plt.subplot(411)\n",
    "plt.plot(data.Weighted_Price, label='Original')\n",
    "plt.legend(loc='best')\n",
    "plt.subplot(412)\n",
    "plt.plot(trend, label='Trend')\n",
    "plt.legend(loc='best')\n",
    "plt.subplot(413)\n",
    "plt.plot(seasonal,label='Seasonality')\n",
    "plt.legend(loc='best')\n",
    "plt.subplot(414)\n",
    "plt.plot(residual, label='Residuals')\n",
    "plt.legend(loc='best')\n",
    "\n",
    "fig.suptitle('Decomposition of Prices Data')\n",
    "plt.show()"
   ]
  },
  {
   "cell_type": "code",
   "execution_count": null,
   "id": "0443e7de",
   "metadata": {},
   "outputs": [],
   "source": [
    "print(\"Dickey–Fuller test: p=%f\" % sm.tsa.stattools.adfuller(data.Weighted_Price)[1])"
   ]
  },
  {
   "cell_type": "code",
   "execution_count": null,
   "id": "55695f8c",
   "metadata": {},
   "outputs": [],
   "source": [
    "from statsmodels.graphics.tsaplots import plot_acf\n",
    "from statsmodels.graphics.tsaplots import plot_pacf\n",
    "from matplotlib import pyplot\n",
    "pyplot.figure(figsize=(20,8))\n",
    "pyplot.subplot(211)\n",
    "plot_acf(data.Weighted_Price, ax=pyplot.gca(),lags=40)\n",
    "pyplot.subplot(212)\n",
    "plot_pacf(data.Weighted_Price, ax=pyplot.gca(), lags=50)\n",
    "pyplot.show()"
   ]
  },
  {
   "cell_type": "code",
   "execution_count": null,
   "id": "8ef17829",
   "metadata": {},
   "outputs": [],
   "source": [
    "# Here is the Statespace ARIMA Model, the best model is selected using different parameters.\n",
    "\n",
    "# Initial approximation of parameters\n",
    "Qs = range(0, 2)\n",
    "qs = range(0, 3)\n",
    "Ps = range(0, 3)\n",
    "ps = range(0, 3)\n",
    "D=1\n",
    "d=1\n",
    "parameters = product(ps, qs, Ps, Qs)\n",
    "parameters_list = list(parameters)\n",
    "len(parameters_list)\n",
    "\n",
    "# Model Selection\n",
    "results = []\n",
    "best_aic = float(\"inf\")\n",
    "warnings.filterwarnings('ignore')\n",
    "for param in parameters_list:\n",
    "    try:\n",
    "        model=sm.tsa.statespace.SARIMAX(data.Weighted_Price, order=(param[0], d, param[1]), \n",
    "                                        seasonal_order=(param[2], D, param[3], 12),enforce_stationarity=False,\n",
    "                                            enforce_invertibility=False).fit(disp=-1)\n",
    "    except ValueError:\n",
    "        #print('wrong parameters:', param)\n",
    "        continue\n",
    "    aic = model.aic\n",
    "    if aic < best_aic:\n",
    "        best_model = model\n",
    "        best_aic = aic\n",
    "        best_param = param\n",
    "    results.append([param, model.aic])"
   ]
  },
  {
   "cell_type": "code",
   "execution_count": null,
   "id": "4945ba50",
   "metadata": {},
   "outputs": [],
   "source": [
    "# Best Models\n",
    "result_table = pd.DataFrame(results)\n",
    "result_table.columns = ['parameters', 'aic']\n",
    "print(result_table.sort_values(by = 'aic', ascending=True).head())\n",
    "print(best_model.summary())"
   ]
  },
  {
   "cell_type": "code",
   "execution_count": null,
   "id": "491a153e",
   "metadata": {},
   "outputs": [],
   "source": [
    "fig = plt.figure(figsize=(20,8))\n",
    "best_model.resid.plot()\n",
    "fig.suptitle('Residual Plot of the Best Model')\n",
    "print(\"Dickey–Fuller test:: p=%f\" % sm.tsa.stattools.adfuller(best_model.resid)[1])"
   ]
  },
  {
   "cell_type": "code",
   "execution_count": null,
   "id": "05e4a848",
   "metadata": {},
   "outputs": [],
   "source": [
    "df_month2 = data[['Weighted_Price']]\n",
    "future = pd.DataFrame()\n",
    "df_month2 = pd.concat([df_month2, future])\n",
    "df_month2['forecast'] = best_model.predict(start=0, end=200)\n",
    "plt.figure(figsize=(15,7))\n",
    "df_month2.Weighted_Price.plot()\n",
    "df_month2.forecast.plot(color='r', ls='--', label='Predicted Weighted_Price')\n",
    "plt.legend()\n",
    "plt.title('Bitcoin Prices (USD) Predicted vs Actuals, by months')\n",
    "plt.ylabel('mean USD')\n",
    "plt.show()"
   ]
  },
  {
   "cell_type": "markdown",
   "id": "7797718e",
   "metadata": {},
   "source": [
    "...We can see how the above models perform with Historic Bitcoin Price data. The prediction is not good. The Bitcoin prices are very volatile and very random, and is often influenced by external factors (or news) such as Cryptocurrency regulations, Investments or simple rumours on social media. We need additional data from news or social media to make these models perform better and more accurately."
   ]
  },
  {
   "cell_type": "markdown",
   "id": "d2afca2e",
   "metadata": {},
   "source": [
    "Some nice reads for further knowledge in Time Series Forecasting :-\n",
    "\n",
    "https://medium.com/@josemarcialportilla/using-python-and-auto-arima-to-forecast-seasonal-time-series-90877adff03c\n",
    "https://www.analyticsvidhya.com/blog/2016/02/time-series-forecasting-codes-python/\n",
    "https://towardsdatascience.com/an-end-to-end-project-on-time-series-analysis-and-forecasting-with-python-4835e6bf050b\n",
    "https://machinelearningmastery.com/arima-for-time-series-forecasting-with-python/\n",
    "https://machinelearningmastery.com/time-series-prediction-lstm-recurrent-neural-networks-python-keras/\n",
    "https://towardsdatascience.com/using-lstms-to-forecast-time-series-4ab688386b1f\n",
    "https://mlwhiz.com/blog/2017/12/26/How_to_win_a_data_science_competition/\n",
    "https://www.analyticsvidhya.com/blog/2018/05/generate-accurate-forecasts-facebook-prophet-python-r/"
   ]
  }
 ],
 "metadata": {
  "kernelspec": {
   "display_name": "Python 3.9.7 64-bit ('base': conda)",
   "language": "python",
   "name": "python397jvsc74a57bd0b983cee88a5f5b781842dab25cac97ea737d167342329ba8945dcd9876040f99"
  },
  "language_info": {
   "codemirror_mode": {
    "name": "ipython",
    "version": 3
   },
   "file_extension": ".py",
   "mimetype": "text/x-python",
   "name": "python",
   "nbconvert_exporter": "python",
   "pygments_lexer": "ipython3",
   "version": "3.9.7"
  }
 },
 "nbformat": 4,
 "nbformat_minor": 5
}
